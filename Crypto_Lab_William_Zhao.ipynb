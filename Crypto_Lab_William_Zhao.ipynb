{
  "nbformat": 4,
  "nbformat_minor": 0,
  "metadata": {
    "colab": {
      "name": "Crypto Lab - William Zhao.ipynb",
      "provenance": [],
      "collapsed_sections": [],
      "include_colab_link": true
    },
    "kernelspec": {
      "name": "python3",
      "display_name": "Python 3"
    }
  },
  "cells": [
    {
      "cell_type": "markdown",
      "metadata": {
        "id": "view-in-github",
        "colab_type": "text"
      },
      "source": [
        "<a href=\"https://colab.research.google.com/github/williamzhao01123/crypto-lab/blob/master/Crypto_Lab_William_Zhao.ipynb\" target=\"_parent\"><img src=\"https://colab.research.google.com/assets/colab-badge.svg\" alt=\"Open In Colab\"/></a>"
      ]
    },
    {
      "cell_type": "markdown",
      "metadata": {
        "id": "3J3iVX-tkOrL",
        "colab_type": "text"
      },
      "source": [
        "Week 1\n",
        "\n",
        "\n",
        "*   Download historical data of the Ampleforth and set up the Google Colab and Github environment.\n",
        "\n",
        "Note: \n",
        "Url1 documents the link to the supply data, which can be downloaded from [Ampleforth](https://www.ampleforth.org/dashboard/supply). Url2 documents the link to the price and market cap data, which can be downloaded from [CoinGecko](https://www.coingecko.com/en/coins/ampleforth/historical_data/usd?__cf_chl_jschl_tk__=02c9da4db0b2957f6e4f55b4aa8d58106ae6e2a9-1600572910-0-AWVK2D6MT0k3pkThi41nmIfe64HMEn1FdIATn68AVpE3mvlCowHcL4P4wxj14rQ-_GOhL-XuYwH4OPg81tzNypjCUEiNitMgVEZTzNVEPyz6rCTJawsQQjaz6xXC7k1FNZMIvijXXziubxLmA5tE0zvoUXkM0DHho3KrCbCHaZaXO_e8oFibWbgQGBhTwmgyY7tsj-5O5CM327U-Ejw2v1aFcWRmQNlenkyTu3JWLdFlrivnzgpR3pSaU0x0L0lcrIrRFg82K_rp-wtn2O9zNlmwKDZHxdTAsaErpKdz2tOt7dkRUn47CQuq3Xy_ftQSy1m9ncIPcJb6aDwLy0c0LNU). The df is the dataframe acquired by merging the two data sources.\n",
        "\n",
        "My Github personal page: [Github Page](https://github.com/williamzhao01123/crypto-lab)\n",
        "\n"
      ]
    },
    {
      "cell_type": "markdown",
      "metadata": {
        "id": "WgK88wKz3HnT",
        "colab_type": "text"
      },
      "source": [
        "Data Import"
      ]
    },
    {
      "cell_type": "code",
      "metadata": {
        "id": "VyzETw_vVdK1",
        "colab_type": "code",
        "colab": {
          "base_uri": "https://localhost:8080/",
          "height": 415
        },
        "outputId": "0b1c680f-54bd-47dc-ed83-e20b5621fae6"
      },
      "source": [
        "import numpy as np\n",
        "import pandas as pd\n",
        "from google.colab import files\n",
        "\n",
        "url1 = 'https://raw.githubusercontent.com/williamzhao01123/crypto-lab/master/Data/Ampleforth%20Supply%20History.csv'\n",
        "url2 = 'https://raw.githubusercontent.com/williamzhao01123/crypto-lab/master/Data/ampl-usd-max.csv'\n",
        "supply = pd.read_csv(url1)\n",
        "supply\n",
        "price = pd.read_csv(url2)\n",
        "price"
      ],
      "execution_count": 19,
      "outputs": [
        {
          "output_type": "execute_result",
          "data": {
            "text/html": [
              "<div>\n",
              "<style scoped>\n",
              "    .dataframe tbody tr th:only-of-type {\n",
              "        vertical-align: middle;\n",
              "    }\n",
              "\n",
              "    .dataframe tbody tr th {\n",
              "        vertical-align: top;\n",
              "    }\n",
              "\n",
              "    .dataframe thead th {\n",
              "        text-align: right;\n",
              "    }\n",
              "</style>\n",
              "<table border=\"1\" class=\"dataframe\">\n",
              "  <thead>\n",
              "    <tr style=\"text-align: right;\">\n",
              "      <th></th>\n",
              "      <th>snapped_at</th>\n",
              "      <th>price</th>\n",
              "      <th>market_cap</th>\n",
              "      <th>total_volume</th>\n",
              "    </tr>\n",
              "  </thead>\n",
              "  <tbody>\n",
              "    <tr>\n",
              "      <th>0</th>\n",
              "      <td>2019-06-29 00:00:00 UTC</td>\n",
              "      <td>1.995927</td>\n",
              "      <td>9.218437e+06</td>\n",
              "      <td>1.544874e+06</td>\n",
              "    </tr>\n",
              "    <tr>\n",
              "      <th>1</th>\n",
              "      <td>2019-06-30 00:00:00 UTC</td>\n",
              "      <td>2.088133</td>\n",
              "      <td>9.642670e+06</td>\n",
              "      <td>3.647059e+05</td>\n",
              "    </tr>\n",
              "    <tr>\n",
              "      <th>2</th>\n",
              "      <td>2019-07-01 00:00:00 UTC</td>\n",
              "      <td>1.927304</td>\n",
              "      <td>9.195160e+06</td>\n",
              "      <td>2.997094e+05</td>\n",
              "    </tr>\n",
              "    <tr>\n",
              "      <th>3</th>\n",
              "      <td>2019-07-02 00:00:00 UTC</td>\n",
              "      <td>1.892318</td>\n",
              "      <td>9.241390e+06</td>\n",
              "      <td>1.024026e+05</td>\n",
              "    </tr>\n",
              "    <tr>\n",
              "      <th>4</th>\n",
              "      <td>2019-07-03 00:00:00 UTC</td>\n",
              "      <td>1.613366</td>\n",
              "      <td>8.065828e+06</td>\n",
              "      <td>2.002426e+05</td>\n",
              "    </tr>\n",
              "    <tr>\n",
              "      <th>...</th>\n",
              "      <td>...</td>\n",
              "      <td>...</td>\n",
              "      <td>...</td>\n",
              "      <td>...</td>\n",
              "    </tr>\n",
              "    <tr>\n",
              "      <th>445</th>\n",
              "      <td>2020-09-16 00:00:00 UTC</td>\n",
              "      <td>0.742613</td>\n",
              "      <td>1.518165e+08</td>\n",
              "      <td>1.363641e+07</td>\n",
              "    </tr>\n",
              "    <tr>\n",
              "      <th>446</th>\n",
              "      <td>2020-09-17 00:00:00 UTC</td>\n",
              "      <td>0.735572</td>\n",
              "      <td>1.473072e+08</td>\n",
              "      <td>8.418690e+06</td>\n",
              "    </tr>\n",
              "    <tr>\n",
              "      <th>447</th>\n",
              "      <td>2020-09-18 00:00:00 UTC</td>\n",
              "      <td>0.762779</td>\n",
              "      <td>1.482530e+08</td>\n",
              "      <td>8.756111e+06</td>\n",
              "    </tr>\n",
              "    <tr>\n",
              "      <th>448</th>\n",
              "      <td>2020-09-19 00:00:00 UTC</td>\n",
              "      <td>0.773892</td>\n",
              "      <td>1.458856e+08</td>\n",
              "      <td>1.161926e+07</td>\n",
              "    </tr>\n",
              "    <tr>\n",
              "      <th>449</th>\n",
              "      <td>2020-09-20 00:00:00 UTC</td>\n",
              "      <td>0.797171</td>\n",
              "      <td>1.478808e+08</td>\n",
              "      <td>7.104496e+06</td>\n",
              "    </tr>\n",
              "  </tbody>\n",
              "</table>\n",
              "<p>450 rows × 4 columns</p>\n",
              "</div>"
            ],
            "text/plain": [
              "                  snapped_at     price    market_cap  total_volume\n",
              "0    2019-06-29 00:00:00 UTC  1.995927  9.218437e+06  1.544874e+06\n",
              "1    2019-06-30 00:00:00 UTC  2.088133  9.642670e+06  3.647059e+05\n",
              "2    2019-07-01 00:00:00 UTC  1.927304  9.195160e+06  2.997094e+05\n",
              "3    2019-07-02 00:00:00 UTC  1.892318  9.241390e+06  1.024026e+05\n",
              "4    2019-07-03 00:00:00 UTC  1.613366  8.065828e+06  2.002426e+05\n",
              "..                       ...       ...           ...           ...\n",
              "445  2020-09-16 00:00:00 UTC  0.742613  1.518165e+08  1.363641e+07\n",
              "446  2020-09-17 00:00:00 UTC  0.735572  1.473072e+08  8.418690e+06\n",
              "447  2020-09-18 00:00:00 UTC  0.762779  1.482530e+08  8.756111e+06\n",
              "448  2020-09-19 00:00:00 UTC  0.773892  1.458856e+08  1.161926e+07\n",
              "449  2020-09-20 00:00:00 UTC  0.797171  1.478808e+08  7.104496e+06\n",
              "\n",
              "[450 rows x 4 columns]"
            ]
          },
          "metadata": {
            "tags": []
          },
          "execution_count": 19
        }
      ]
    },
    {
      "cell_type": "markdown",
      "metadata": {
        "id": "U8fLAStU3FDB",
        "colab_type": "text"
      },
      "source": [
        "Date Processing"
      ]
    },
    {
      "cell_type": "code",
      "metadata": {
        "id": "zJd0hBR624aD",
        "colab_type": "code",
        "colab": {}
      },
      "source": [
        "ser1 = pd.Series(supply[\"supply\"])\n",
        "ser2 = pd.Series([50000000])\n",
        "ser1 = ser2.append(ser1, ignore_index=True)\n",
        "\n",
        "price[\"total supply\"] = ser1\n",
        "df = price\n",
        "df"
      ],
      "execution_count": null,
      "outputs": []
    },
    {
      "cell_type": "markdown",
      "metadata": {
        "id": "sJKrRaFUVmWG",
        "colab_type": "text"
      },
      "source": [
        "Data Export"
      ]
    },
    {
      "cell_type": "code",
      "metadata": {
        "id": "H1dWWzUTeRi6",
        "colab_type": "code",
        "colab": {}
      },
      "source": [
        "df.to_csv('Ampleforth.csv') \n",
        "files.download('Ampleforth.csv')"
      ],
      "execution_count": null,
      "outputs": []
    },
    {
      "cell_type": "markdown",
      "metadata": {
        "id": "lVodWZlNeUY7",
        "colab_type": "text"
      },
      "source": [
        "Week 2\n",
        "\n",
        "*   download and plot Ampl, Dai, MKR, ETH data (use python and github)\n",
        "*   simple data engineering of Ampl, Dai, MKR, ETH\n",
        "\n",
        "ETH data is downloaded from [ETH](https://www.coingecko.com/en/coins/ethereum/historical_data/usd?end_date=2020-09-25&start_date=2010-01-01#panel). MKR data is downloaded from [MKR](https://www.coingecko.com/en/coins/maker/historical_data/usd?end_date=2020-09-25&start_date=2016-01-01#panel). DAI data is downloaded from [DAI](https://www.coingecko.com/en/coins/dai/historical_data/usd?end_date=2020-09-25&start_date=2012-01-01#panel).\n"
      ]
    },
    {
      "cell_type": "markdown",
      "metadata": {
        "id": "YXZg_3S1lobv",
        "colab_type": "text"
      },
      "source": [
        "Data Import"
      ]
    },
    {
      "cell_type": "code",
      "metadata": {
        "id": "7iTkgNJplFq0",
        "colab_type": "code",
        "colab": {
          "base_uri": "https://localhost:8080/",
          "height": 415
        },
        "outputId": "687982e2-7964-46bc-af89-1e8c95eedab6"
      },
      "source": [
        "urlDAI = 'https://raw.githubusercontent.com/williamzhao01123/crypto-lab/master/Data/dai-usd-max.csv'\n",
        "urlMKR = 'https://raw.githubusercontent.com/williamzhao01123/crypto-lab/master/Data/mkr-usd-max.csv'\n",
        "urlETH = 'https://raw.githubusercontent.com/williamzhao01123/crypto-lab/master/Data/eth-usd-max.csv'\n",
        "DAI = pd.read_csv(urlDAI)\n",
        "MKR = pd.read_csv(urlMKR)\n",
        "ETH = pd.read_csv(urlETH)\n",
        "AMPL = df\n",
        "DAI\n",
        "MKR\n",
        "ETH"
      ],
      "execution_count": 22,
      "outputs": [
        {
          "output_type": "execute_result",
          "data": {
            "text/html": [
              "<div>\n",
              "<style scoped>\n",
              "    .dataframe tbody tr th:only-of-type {\n",
              "        vertical-align: middle;\n",
              "    }\n",
              "\n",
              "    .dataframe tbody tr th {\n",
              "        vertical-align: top;\n",
              "    }\n",
              "\n",
              "    .dataframe thead th {\n",
              "        text-align: right;\n",
              "    }\n",
              "</style>\n",
              "<table border=\"1\" class=\"dataframe\">\n",
              "  <thead>\n",
              "    <tr style=\"text-align: right;\">\n",
              "      <th></th>\n",
              "      <th>snapped_at</th>\n",
              "      <th>price</th>\n",
              "      <th>market_cap</th>\n",
              "      <th>total_volume</th>\n",
              "    </tr>\n",
              "  </thead>\n",
              "  <tbody>\n",
              "    <tr>\n",
              "      <th>0</th>\n",
              "      <td>2015-08-07 00:00:00 UTC</td>\n",
              "      <td>2.831620</td>\n",
              "      <td>0.000000e+00</td>\n",
              "      <td>9.062200e+04</td>\n",
              "    </tr>\n",
              "    <tr>\n",
              "      <th>1</th>\n",
              "      <td>2015-08-08 00:00:00 UTC</td>\n",
              "      <td>1.330750</td>\n",
              "      <td>8.033948e+07</td>\n",
              "      <td>3.680700e+05</td>\n",
              "    </tr>\n",
              "    <tr>\n",
              "      <th>2</th>\n",
              "      <td>2015-08-10 00:00:00 UTC</td>\n",
              "      <td>0.687586</td>\n",
              "      <td>4.155631e+07</td>\n",
              "      <td>4.004641e+05</td>\n",
              "    </tr>\n",
              "    <tr>\n",
              "      <th>3</th>\n",
              "      <td>2015-08-11 00:00:00 UTC</td>\n",
              "      <td>1.067379</td>\n",
              "      <td>6.453901e+07</td>\n",
              "      <td>1.518998e+06</td>\n",
              "    </tr>\n",
              "    <tr>\n",
              "      <th>4</th>\n",
              "      <td>2015-08-12 00:00:00 UTC</td>\n",
              "      <td>1.256613</td>\n",
              "      <td>7.601326e+07</td>\n",
              "      <td>2.073893e+06</td>\n",
              "    </tr>\n",
              "    <tr>\n",
              "      <th>...</th>\n",
              "      <td>...</td>\n",
              "      <td>...</td>\n",
              "      <td>...</td>\n",
              "      <td>...</td>\n",
              "    </tr>\n",
              "    <tr>\n",
              "      <th>1871</th>\n",
              "      <td>2020-09-21 00:00:00 UTC</td>\n",
              "      <td>370.967895</td>\n",
              "      <td>4.192998e+10</td>\n",
              "      <td>1.136962e+10</td>\n",
              "    </tr>\n",
              "    <tr>\n",
              "      <th>1872</th>\n",
              "      <td>2020-09-22 00:00:00 UTC</td>\n",
              "      <td>341.277131</td>\n",
              "      <td>3.869581e+10</td>\n",
              "      <td>1.483782e+10</td>\n",
              "    </tr>\n",
              "    <tr>\n",
              "      <th>1873</th>\n",
              "      <td>2020-09-23 00:00:00 UTC</td>\n",
              "      <td>343.917547</td>\n",
              "      <td>3.867991e+10</td>\n",
              "      <td>1.196711e+10</td>\n",
              "    </tr>\n",
              "    <tr>\n",
              "      <th>1874</th>\n",
              "      <td>2020-09-24 00:00:00 UTC</td>\n",
              "      <td>321.077435</td>\n",
              "      <td>3.623917e+10</td>\n",
              "      <td>9.839918e+09</td>\n",
              "    </tr>\n",
              "    <tr>\n",
              "      <th>1875</th>\n",
              "      <td>2020-09-25 00:00:00 UTC</td>\n",
              "      <td>348.821020</td>\n",
              "      <td>3.931472e+10</td>\n",
              "      <td>1.220955e+10</td>\n",
              "    </tr>\n",
              "  </tbody>\n",
              "</table>\n",
              "<p>1876 rows × 4 columns</p>\n",
              "</div>"
            ],
            "text/plain": [
              "                   snapped_at       price    market_cap  total_volume\n",
              "0     2015-08-07 00:00:00 UTC    2.831620  0.000000e+00  9.062200e+04\n",
              "1     2015-08-08 00:00:00 UTC    1.330750  8.033948e+07  3.680700e+05\n",
              "2     2015-08-10 00:00:00 UTC    0.687586  4.155631e+07  4.004641e+05\n",
              "3     2015-08-11 00:00:00 UTC    1.067379  6.453901e+07  1.518998e+06\n",
              "4     2015-08-12 00:00:00 UTC    1.256613  7.601326e+07  2.073893e+06\n",
              "...                       ...         ...           ...           ...\n",
              "1871  2020-09-21 00:00:00 UTC  370.967895  4.192998e+10  1.136962e+10\n",
              "1872  2020-09-22 00:00:00 UTC  341.277131  3.869581e+10  1.483782e+10\n",
              "1873  2020-09-23 00:00:00 UTC  343.917547  3.867991e+10  1.196711e+10\n",
              "1874  2020-09-24 00:00:00 UTC  321.077435  3.623917e+10  9.839918e+09\n",
              "1875  2020-09-25 00:00:00 UTC  348.821020  3.931472e+10  1.220955e+10\n",
              "\n",
              "[1876 rows x 4 columns]"
            ]
          },
          "metadata": {
            "tags": []
          },
          "execution_count": 22
        }
      ]
    }
  ]
}