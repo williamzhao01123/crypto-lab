{
  "nbformat": 4,
  "nbformat_minor": 0,
  "metadata": {
    "colab": {
      "name": "Crypto Lab - William Zhao.ipynb",
      "provenance": [],
      "authorship_tag": "ABX9TyO3iNcukeIvvKkyRVMS8PJw",
      "include_colab_link": true
    },
    "kernelspec": {
      "name": "python3",
      "display_name": "Python 3"
    }
  },
  "cells": [
    {
      "cell_type": "markdown",
      "metadata": {
        "id": "view-in-github",
        "colab_type": "text"
      },
      "source": [
        "<a href=\"https://colab.research.google.com/github/williamzhao01123/crypto-lab/blob/master/Crypto_Lab_William_Zhao.ipynb\" target=\"_parent\"><img src=\"https://colab.research.google.com/assets/colab-badge.svg\" alt=\"Open In Colab\"/></a>"
      ]
    },
    {
      "cell_type": "markdown",
      "metadata": {
        "id": "3J3iVX-tkOrL",
        "colab_type": "text"
      },
      "source": [
        "Week 1\n",
        "\n",
        "\n",
        "*   Download historical data of the Ampleforth and set up the Google Colab and Github environment.\n",
        "\n",
        "Note: \n",
        "Url1 documents the link to the supply history document, which can be downloaded from [Ampleforth](https://www.ampleforth.org/dashboard/supply). Url2 documents the link to the price and market supply document, which can be downloaded from [CoinGecko](https://www.coingecko.com/en/coins/ampleforth/historical_data/usd?__cf_chl_jschl_tk__=02c9da4db0b2957f6e4f55b4aa8d58106ae6e2a9-1600572910-0-AWVK2D6MT0k3pkThi41nmIfe64HMEn1FdIATn68AVpE3mvlCowHcL4P4wxj14rQ-_GOhL-XuYwH4OPg81tzNypjCUEiNitMgVEZTzNVEPyz6rCTJawsQQjaz6xXC7k1FNZMIvijXXziubxLmA5tE0zvoUXkM0DHho3KrCbCHaZaXO_e8oFibWbgQGBhTwmgyY7tsj-5O5CM327U-Ejw2v1aFcWRmQNlenkyTu3JWLdFlrivnzgpR3pSaU0x0L0lcrIrRFg82K_rp-wtn2O9zNlmwKDZHxdTAsaErpKdz2tOt7dkRUn47CQuq3Xy_ftQSy1m9ncIPcJb6aDwLy0c0LNU). The df is the dataframe acquired by merging the two data sources.\n",
        "\n"
      ]
    },
    {
      "cell_type": "code",
      "metadata": {
        "id": "VyzETw_vVdK1",
        "colab_type": "code",
        "colab": {
          "base_uri": "https://localhost:8080/",
          "height": 415
        },
        "outputId": "ba8c254a-69e3-45e8-9077-8bef976d3839"
      },
      "source": [
        "import numpy as np\n",
        "import pandas as pd\n",
        "\n",
        "url1 = 'https://raw.githubusercontent.com/williamzhao01123/crypto-lab/master/SUPPLY%20HISTORY.csv'\n",
        "url2 = 'https://raw.githubusercontent.com/williamzhao01123/crypto-lab/master/ampl-usd-max.csv'\n",
        "supply = pd.read_csv(url1)\n",
        "price = pd.read_csv(url2)\n",
        "\n",
        "ser1 = pd.Series(supply[\"supply\"])\n",
        "ser2 = pd.Series([50000000])\n",
        "ser1 = ser2.append(ser1, ignore_index=True)\n",
        "\n",
        "price[\"supply\"] = ser1\n",
        "df = price\n",
        "df"
      ],
      "execution_count": 73,
      "outputs": [
        {
          "output_type": "execute_result",
          "data": {
            "text/html": [
              "<div>\n",
              "<style scoped>\n",
              "    .dataframe tbody tr th:only-of-type {\n",
              "        vertical-align: middle;\n",
              "    }\n",
              "\n",
              "    .dataframe tbody tr th {\n",
              "        vertical-align: top;\n",
              "    }\n",
              "\n",
              "    .dataframe thead th {\n",
              "        text-align: right;\n",
              "    }\n",
              "</style>\n",
              "<table border=\"1\" class=\"dataframe\">\n",
              "  <thead>\n",
              "    <tr style=\"text-align: right;\">\n",
              "      <th></th>\n",
              "      <th>snapped_at</th>\n",
              "      <th>price</th>\n",
              "      <th>market_cap</th>\n",
              "      <th>total_volume</th>\n",
              "      <th>supply</th>\n",
              "    </tr>\n",
              "  </thead>\n",
              "  <tbody>\n",
              "    <tr>\n",
              "      <th>0</th>\n",
              "      <td>2019-06-29 00:00:00 UTC</td>\n",
              "      <td>1.995927</td>\n",
              "      <td>9.218437e+06</td>\n",
              "      <td>1.544874e+06</td>\n",
              "      <td>5.000000e+07</td>\n",
              "    </tr>\n",
              "    <tr>\n",
              "      <th>1</th>\n",
              "      <td>2019-06-30 00:00:00 UTC</td>\n",
              "      <td>2.088133</td>\n",
              "      <td>9.642670e+06</td>\n",
              "      <td>3.647059e+05</td>\n",
              "      <td>5.000000e+07</td>\n",
              "    </tr>\n",
              "    <tr>\n",
              "      <th>2</th>\n",
              "      <td>2019-07-01 00:00:00 UTC</td>\n",
              "      <td>1.927304</td>\n",
              "      <td>9.195160e+06</td>\n",
              "      <td>2.997094e+05</td>\n",
              "      <td>5.132114e+07</td>\n",
              "    </tr>\n",
              "    <tr>\n",
              "      <th>3</th>\n",
              "      <td>2019-07-02 00:00:00 UTC</td>\n",
              "      <td>1.892318</td>\n",
              "      <td>9.241390e+06</td>\n",
              "      <td>1.024026e+05</td>\n",
              "      <td>5.290273e+07</td>\n",
              "    </tr>\n",
              "    <tr>\n",
              "      <th>4</th>\n",
              "      <td>2019-07-03 00:00:00 UTC</td>\n",
              "      <td>1.613366</td>\n",
              "      <td>8.065828e+06</td>\n",
              "      <td>2.002426e+05</td>\n",
              "      <td>5.420791e+07</td>\n",
              "    </tr>\n",
              "    <tr>\n",
              "      <th>...</th>\n",
              "      <td>...</td>\n",
              "      <td>...</td>\n",
              "      <td>...</td>\n",
              "      <td>...</td>\n",
              "      <td>...</td>\n",
              "    </tr>\n",
              "    <tr>\n",
              "      <th>445</th>\n",
              "      <td>2020-09-16 00:00:00 UTC</td>\n",
              "      <td>0.742613</td>\n",
              "      <td>1.518165e+08</td>\n",
              "      <td>1.363641e+07</td>\n",
              "      <td>3.779661e+08</td>\n",
              "    </tr>\n",
              "    <tr>\n",
              "      <th>446</th>\n",
              "      <td>2020-09-17 00:00:00 UTC</td>\n",
              "      <td>0.735572</td>\n",
              "      <td>1.473072e+08</td>\n",
              "      <td>8.418690e+06</td>\n",
              "      <td>3.678079e+08</td>\n",
              "    </tr>\n",
              "    <tr>\n",
              "      <th>447</th>\n",
              "      <td>2020-09-18 00:00:00 UTC</td>\n",
              "      <td>0.762779</td>\n",
              "      <td>1.482530e+08</td>\n",
              "      <td>8.756111e+06</td>\n",
              "      <td>3.586797e+08</td>\n",
              "    </tr>\n",
              "    <tr>\n",
              "      <th>448</th>\n",
              "      <td>2020-09-19 00:00:00 UTC</td>\n",
              "      <td>0.773892</td>\n",
              "      <td>1.458856e+08</td>\n",
              "      <td>1.161926e+07</td>\n",
              "      <td>3.510776e+08</td>\n",
              "    </tr>\n",
              "    <tr>\n",
              "      <th>449</th>\n",
              "      <td>2020-09-20 00:00:00 UTC</td>\n",
              "      <td>0.797171</td>\n",
              "      <td>1.478808e+08</td>\n",
              "      <td>7.104496e+06</td>\n",
              "      <td>3.438466e+08</td>\n",
              "    </tr>\n",
              "  </tbody>\n",
              "</table>\n",
              "<p>450 rows × 5 columns</p>\n",
              "</div>"
            ],
            "text/plain": [
              "                  snapped_at     price  ...  total_volume        supply\n",
              "0    2019-06-29 00:00:00 UTC  1.995927  ...  1.544874e+06  5.000000e+07\n",
              "1    2019-06-30 00:00:00 UTC  2.088133  ...  3.647059e+05  5.000000e+07\n",
              "2    2019-07-01 00:00:00 UTC  1.927304  ...  2.997094e+05  5.132114e+07\n",
              "3    2019-07-02 00:00:00 UTC  1.892318  ...  1.024026e+05  5.290273e+07\n",
              "4    2019-07-03 00:00:00 UTC  1.613366  ...  2.002426e+05  5.420791e+07\n",
              "..                       ...       ...  ...           ...           ...\n",
              "445  2020-09-16 00:00:00 UTC  0.742613  ...  1.363641e+07  3.779661e+08\n",
              "446  2020-09-17 00:00:00 UTC  0.735572  ...  8.418690e+06  3.678079e+08\n",
              "447  2020-09-18 00:00:00 UTC  0.762779  ...  8.756111e+06  3.586797e+08\n",
              "448  2020-09-19 00:00:00 UTC  0.773892  ...  1.161926e+07  3.510776e+08\n",
              "449  2020-09-20 00:00:00 UTC  0.797171  ...  7.104496e+06  3.438466e+08\n",
              "\n",
              "[450 rows x 5 columns]"
            ]
          },
          "metadata": {
            "tags": []
          },
          "execution_count": 73
        }
      ]
    },
    {
      "cell_type": "markdown",
      "metadata": {
        "id": "sJKrRaFUVmWG",
        "colab_type": "text"
      },
      "source": [
        ""
      ]
    }
  ]
}